{
 "cells": [
  {
   "cell_type": "code",
   "execution_count": 26,
   "metadata": {},
   "outputs": [],
   "source": [
    "import pandas as pd"
   ]
  },
  {
   "cell_type": "code",
   "execution_count": 27,
   "metadata": {},
   "outputs": [],
   "source": [
    "# Convert CAND_NAME format\n",
    "def convert_name(name):\n",
    "    parts = name.split(',')\n",
    "    if len(parts) == 2:\n",
    "        return f\"{parts[1].strip()} {parts[0].strip()}\"\n",
    "    return name  # Return original name if it doesn't match the expected format"
   ]
  },
  {
   "cell_type": "code",
   "execution_count": 28,
   "metadata": {},
   "outputs": [
    {
     "name": "stdout",
     "output_type": "stream",
     "text": [
      "Number of rows removed due to NaN values in CAND_OFFICE_DISTRICT: 0\n",
      "Number of rows removed due to NaN values in CAND_OFFICE_DISTRICT: 0\n",
      "Number of rows removed due to NaN values in CAND_OFFICE_DISTRICT: 0\n",
      "Number of rows removed due to NaN values in CAND_OFFICE_DISTRICT: 1\n",
      "Number of rows removed due to NaN values in CAND_OFFICE_DISTRICT: 1\n",
      "Number of rows removed due to NaN values in CAND_OFFICE_DISTRICT: 4\n",
      "Number of rows removed due to NaN values in CAND_OFFICE_DISTRICT: 3\n",
      "Number of rows removed due to NaN values in CAND_OFFICE_DISTRICT: 1\n",
      "Number of rows removed due to NaN values in CAND_OFFICE_DISTRICT: 0\n",
      "Number of rows removed due to NaN values in CAND_OFFICE_DISTRICT: 5\n"
     ]
    }
   ],
   "source": [
    "def handle_numeric_conversion(df, column, file_name):\n",
    "    # Convert column to numeric, keeping NaNs\n",
    "    df.loc[:, column] = pd.to_numeric(df[column], errors='coerce')\n",
    "\n",
    "    # Save rows with NaN values to CSV for error inspection\n",
    "    error_rows = df[df[column].isna()]\n",
    "    error_file = f'error/nan_{column}_rows_{file_name}.csv'\n",
    "    if not error_rows.empty:\n",
    "        error_rows.to_csv(error_file, index=False)\n",
    "\n",
    "    # Log the number of rows removed\n",
    "    num_removed = len(error_rows)\n",
    "    print(f\"Number of rows removed due to NaN values in {column}: {num_removed}\")\n",
    "\n",
    "    # Drop rows with NaN values\n",
    "    df[column] = df[column].fillna(-1)\n",
    "\n",
    "    # Convert to float instead of int to handle potential decimal values\n",
    "    # Suppress the SettingWithCopyWarning using a pandas option\n",
    "    with pd.option_context('mode.chained_assignment', None):\n",
    "        df[column] = df[column].astype(int)\n",
    "\n",
    "    return df\n",
    "    \n",
    "datasets = {}\n",
    "\n",
    "for year in range(4, 24, 2):\n",
    "    year_str = f\"{year:02d}\"\n",
    "    finance_data = pd.read_csv(f'weball{year_str}.txt', delimiter='|', header=None)\n",
    "\n",
    "    # Rename finance data columns\n",
    "    finance_columns = ['CAND_ID', 'CAND_NAME', 'CAND_ICI', 'PTY_CD', 'CAND_PTY_AFFILIATION', 'TTL_RECEIPTS', 'TRANS_FROM_AUTH', 'TTL_DISB',\n",
    "                    'TRANS_TO_AUTH', 'COH_BOP', 'COH_COP', 'CAND_CONTRIB', 'CAND_LOANS', 'OTHER_LOANS', 'CAND_LOAN_REPAY',\n",
    "                    'OTHER_LOAN_REPAY', 'DEBTS_OWED_BY', 'TTL_INDIV_CONTRIB', 'CAND_OFFICE_ST', 'CAND_OFFICE_DISTRICT', 'SPEC_ELECTION',\n",
    "                    'PRIM_ELECTION', 'RUN_ELECTION', 'GEN_ELECTION', 'GEN_ELECTION_PRECENT', 'OTHER_POL_CMTE_CONTRIB', 'POL_PTY_CONTRIB',\n",
    "                    'CVG_END_DT', 'INDIV_REFUNDS', 'CMTE_REFUNDS']\n",
    "\n",
    "    finance_data.columns = finance_columns\n",
    "\n",
    "    finance_data['year'] = \"20\" + year_str\n",
    "\n",
    "    # Filter finance data for House candidates in 2022\n",
    "    finance_data = finance_data[(finance_data['CAND_OFFICE_ST'].notna()) & (finance_data['CVG_END_DT'].str[-4:] == \"20\" + year_str)]\n",
    "\n",
    "    # Apply the function to CAND_OFFICE_DISTRICT\n",
    "    finance_data_clean = handle_numeric_conversion(finance_data, 'CAND_OFFICE_DISTRICT', f'weball{year_str}')\n",
    "\n",
    "    finance_data_clean['CAND_NAME'] = finance_data_clean['CAND_NAME'].apply(convert_name)\n",
    "    datasets[year] = finance_data_clean\n",
    "\n",
    "combined_data = pd.concat(datasets.values(), ignore_index=True)\n",
    "\n",
    "# Save the combined data to a CSV file\n",
    "combined_data.to_csv('../FEC_data.csv', index=False)\n"
   ]
  }
 ],
 "metadata": {
  "kernelspec": {
   "display_name": "bigData",
   "language": "python",
   "name": "python3"
  },
  "language_info": {
   "codemirror_mode": {
    "name": "ipython",
    "version": 3
   },
   "file_extension": ".py",
   "mimetype": "text/x-python",
   "name": "python",
   "nbconvert_exporter": "python",
   "pygments_lexer": "ipython3",
   "version": "3.10.13"
  }
 },
 "nbformat": 4,
 "nbformat_minor": 2
}
