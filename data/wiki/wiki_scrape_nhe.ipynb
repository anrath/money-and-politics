{
 "cells": [
  {
   "cell_type": "code",
   "execution_count": 12,
   "metadata": {},
   "outputs": [
    {
     "name": "stdout",
     "output_type": "stream",
     "text": [
      "2024\n",
      "2022\n",
      "2020\n",
      "2018\n",
      "2016\n",
      "2014\n",
      "2012\n",
      "2010\n"
     ]
    }
   ],
   "source": [
    "import requests\n",
    "from bs4 import BeautifulSoup\n",
    "\n",
    "\n",
    "ALL_DATA = {}\n",
    "for year in range(2022, 2008, -2):\n",
    "    print(year)\n",
    "    url = f\"https://en.wikipedia.org/wiki/{year}_United_States_House_of_Representatives_elections\"\n",
    "    response = requests.get(url)\n",
    "    soup = BeautifulSoup(response.content, 'html.parser')\n",
    "\n",
    "    table = soup.find('table', {'class': 'wikitable'})\n",
    "    rows = table.find_all('tr')[2:]  # Skip header rows\n",
    "\n",
    "    data = []\n",
    "    for row in rows:\n",
    "        cols = row.find_all('td')\n",
    "        if len(cols) == 9:\n",
    "            party = cols[1].text.strip()\n",
    "            def clean_value(value, convert_func=None):\n",
    "                cleaned = value.text.strip().strip('%')\n",
    "                if cleaned in (\"—\", \"–\", \"-\"):\n",
    "                    return None\n",
    "                return convert_func(cleaned.replace(',', '')) if convert_func else cleaned\n",
    "\n",
    "            votes = clean_value(cols[2], int)\n",
    "            percentage = clean_value(cols[3], float)\n",
    "            change = clean_value(cols[4])\n",
    "            seats_prev = clean_value(cols[5])\n",
    "            seats_curr = clean_value(cols[6])\n",
    "            seat_change = clean_value(cols[7])\n",
    "            strength = clean_value(cols[8])\n",
    "            \n",
    "            data.append({\n",
    "                'party': party,\n",
    "                'votes': votes,\n",
    "                'percentage': percentage,\n",
    "                'change': change,\n",
    "                'seats_prev': seats_prev,\n",
    "                'seats_curr': seats_curr,\n",
    "                'seat_change': seat_change,\n",
    "                'strength': strength\n",
    "            })\n",
    "\n",
    "    ALL_DATA[year] = data"
   ]
  },
  {
   "cell_type": "code",
   "execution_count": 14,
   "metadata": {},
   "outputs": [],
   "source": [
    "import json\n",
    "\n",
    "with open('wiki_scrape.json', 'w') as f:\n",
    "    json.dump(ALL_DATA, f, indent=4)\n"
   ]
  }
 ],
 "metadata": {
  "kernelspec": {
   "display_name": "bigData",
   "language": "python",
   "name": "python3"
  },
  "language_info": {
   "codemirror_mode": {
    "name": "ipython",
    "version": 3
   },
   "file_extension": ".py",
   "mimetype": "text/x-python",
   "name": "python",
   "nbconvert_exporter": "python",
   "pygments_lexer": "ipython3",
   "version": "3.10.13"
  }
 },
 "nbformat": 4,
 "nbformat_minor": 2
}
