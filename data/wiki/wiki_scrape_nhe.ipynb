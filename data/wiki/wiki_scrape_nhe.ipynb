{
 "cells": [
  {
   "cell_type": "code",
   "execution_count": 72,
   "metadata": {},
   "outputs": [
    {
     "name": "stdout",
     "output_type": "stream",
     "text": [
      "2022\n",
      "2020\n",
      "2018\n",
      "2016\n",
      "2014\n",
      "2012\n",
      "2010\n",
      "2008\n"
     ]
    }
   ],
   "source": [
    "import requests\n",
    "from bs4 import BeautifulSoup\n",
    "\n",
    "\n",
    "ALL_DATA = {}\n",
    "for year in range(2022, 2006, -2):\n",
    "    print(year)\n",
    "    url = f\"https://en.wikipedia.org/wiki/{year}_United_States_House_of_Representatives_elections\"\n",
    "    response = requests.get(url)\n",
    "    soup = BeautifulSoup(response.content, 'html.parser')\n",
    "\n",
    "    federal_header = soup.find(['span', 'h2', 'h3', 'h4'], {'id': 'Federal'})\n",
    "    if federal_header:\n",
    "        table = federal_header.find_next('table', {'class': 'wikitable'})\n",
    "        rows = table.find_all('tr')[2:] if year == 2012 else table.find_all('tr')[1:]  # Skip header row\n",
    "\n",
    "    data = []\n",
    "    for row in rows:\n",
    "        cols = row.find_all('td')\n",
    "        if cols and len(cols) > 4:  # Check if the row has any columns\n",
    "            def clean_value(value, convert_func=None):\n",
    "                cleaned = value.text.strip().strip('%')\n",
    "                if cleaned in (\"—\", \"–\", \"-\"):\n",
    "                    return None\n",
    "                return convert_func(cleaned.replace(',', '')) if convert_func else cleaned\n",
    "\n",
    "            starting_col = 0\n",
    "            if clean_value(cols[starting_col]) == \"\":\n",
    "                starting_col = 1\n",
    "            if year > 2018:\n",
    "                party = cols[starting_col].text.strip()\n",
    "                votes = clean_value(cols[starting_col + 1], int)\n",
    "                percentage = clean_value(cols[starting_col + 2], float)\n",
    "                change = clean_value(cols[starting_col + 3])\n",
    "                seats_prev = clean_value(cols[starting_col + 4])\n",
    "                seats_curr = clean_value(cols[starting_col + 5])\n",
    "                seat_change = clean_value(cols[starting_col + 6])\n",
    "                strength = clean_value(cols[starting_col + 7])\n",
    "            elif year == 2008:\n",
    "                party = cols[starting_col].text.strip()\n",
    "                if \"Democratic\" in party:\n",
    "                    party = \"Democratic Party\"\n",
    "                elif \"Republican\" in party:\n",
    "                    party = \"Republican Party\"\n",
    "                votes = clean_value(cols[starting_col + 1], int)\n",
    "                percentage = clean_value(cols[starting_col + 2], float)\n",
    "                seats_curr = clean_value(cols[starting_col + 3])\n",
    "                seat_change = clean_value(cols[starting_col + 4])\n",
    "            else:\n",
    "                if year == 2014:\n",
    "                    starting_col = 0\n",
    "                    party = row.find('th').text.strip()\n",
    "                else:\n",
    "                    party = cols[starting_col].text.strip()\n",
    "                seats_prev = clean_value(cols[starting_col + 1])\n",
    "                seats_curr = clean_value(cols[starting_col + 2])\n",
    "                seat_change = clean_value(cols[starting_col + 3])\n",
    "                strength = clean_value(cols[starting_col + 4])\n",
    "                votes = clean_value(cols[starting_col + 5], int)\n",
    "                percentage = clean_value(cols[starting_col + 6], float)\n",
    "                change = clean_value(cols[starting_col + 7])            \n",
    "            \n",
    "            data.append({\n",
    "                'party': party,\n",
    "                'votes': votes,\n",
    "                'percentage': percentage,\n",
    "                'change': change.replace('\\u2013', '-') if change else None,\n",
    "                'seats_prev': seats_prev,\n",
    "                'seats_curr': seats_curr,\n",
    "                'seat_change': seat_change,\n",
    "                'strength': strength\n",
    "            })\n",
    "\n",
    "            # reset the values\n",
    "            party = None\n",
    "            votes = None\n",
    "            percentage = None\n",
    "            change = None\n",
    "            seats_prev = None\n",
    "            seats_curr = None\n",
    "            seat_change = None\n",
    "            strength = None\n",
    "\n",
    "    ALL_DATA[year] = data"
   ]
  },
  {
   "cell_type": "code",
   "execution_count": 76,
   "metadata": {},
   "outputs": [
    {
     "data": {
      "text/plain": [
       "{'party': None,\n",
       " 'votes': None,\n",
       " 'percentage': None,\n",
       " 'change': None,\n",
       " 'seats_prev': None,\n",
       " 'seats_curr': None,\n",
       " 'seat_change': None,\n",
       " 'strength': None}"
      ]
     },
     "execution_count": 76,
     "metadata": {},
     "output_type": "execute_result"
    }
   ],
   "source": [
    "{\n",
    "    'party': party,\n",
    "    'votes': votes,\n",
    "    'percentage': percentage,\n",
    "    'change': change.replace('\\u2013', '-').replace('\\u2212', '-') if change else None,\n",
    "    'seats_prev': seats_prev,\n",
    "    'seats_curr': seats_curr,\n",
    "    'seat_change': seat_change,\n",
    "    'strength': strength\n",
    "}"
   ]
  },
  {
   "cell_type": "code",
   "execution_count": 74,
   "metadata": {},
   "outputs": [
    {
     "data": {
      "text/plain": [
       "2008"
      ]
     },
     "execution_count": 74,
     "metadata": {},
     "output_type": "execute_result"
    }
   ],
   "source": [
    "year"
   ]
  },
  {
   "cell_type": "code",
   "execution_count": 77,
   "metadata": {},
   "outputs": [],
   "source": [
    "import json\n",
    "\n",
    "with open('wiki_scrape_nhe.json', 'w') as f:\n",
    "    json.dump(ALL_DATA, f, indent=4)"
   ]
  }
 ],
 "metadata": {
  "kernelspec": {
   "display_name": "bigData",
   "language": "python",
   "name": "python3"
  },
  "language_info": {
   "codemirror_mode": {
    "name": "ipython",
    "version": 3
   },
   "file_extension": ".py",
   "mimetype": "text/x-python",
   "name": "python",
   "nbconvert_exporter": "python",
   "pygments_lexer": "ipython3",
   "version": "3.10.13"
  }
 },
 "nbformat": 4,
 "nbformat_minor": 2
}
