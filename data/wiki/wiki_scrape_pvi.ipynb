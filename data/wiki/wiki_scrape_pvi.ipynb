{
 "cells": [
  {
   "cell_type": "code",
   "execution_count": 13,
   "metadata": {},
   "outputs": [
    {
     "name": "stdout",
     "output_type": "stream",
     "text": [
      "2022\n",
      "2020\n",
      "2018\n",
      "2016\n",
      "2014\n",
      "2012\n",
      "2010\n"
     ]
    }
   ],
   "source": [
    "import requests\n",
    "from bs4 import BeautifulSoup\n",
    "\n",
    "\n",
    "ALL_DATA = {}\n",
    "for year in range(2022, 2008, -2):\n",
    "    print(year)\n",
    "    url = f\"https://en.wikipedia.org/wiki/{year}_United_States_House_of_Representatives_elections\"\n",
    "    response = requests.get(url)\n",
    "    soup = BeautifulSoup(response.content, 'html.parser')\n",
    "\n",
    "    data = {}\n",
    "    state_names = [\n",
    "        'Alabama', 'Alaska', 'Arizona', 'Arkansas', 'California', 'Colorado',\n",
    "        'Connecticut', 'Delaware', 'Florida', 'Georgia', 'Hawaii', 'Idaho',\n",
    "        'Illinois', 'Indiana', 'Iowa', 'Kansas', 'Kentucky', 'Louisiana',\n",
    "        'Maine', 'Maryland', 'Massachusetts', 'Michigan', 'Minnesota',\n",
    "        'Mississippi', 'Missouri', 'Montana', 'Nebraska', 'Nevada',\n",
    "        'New Hampshire', 'New Jersey', 'New Mexico', 'New York',\n",
    "        'North Carolina', 'North Dakota', 'Ohio', 'Oklahoma', 'Oregon',\n",
    "        'Pennsylvania', 'Rhode Island', 'South Carolina', 'South Dakota',\n",
    "        'Tennessee', 'Texas', 'Utah', 'Vermont', 'Virginia', 'Washington',\n",
    "        'West Virginia', 'Wisconsin', 'Wyoming'\n",
    "    ]\n",
    "    for state_name in state_names:\n",
    "        state_header = soup.find(['span', 'h2', 'h3', 'h4'], {'id': state_name})\n",
    "        if state_header:\n",
    "            state_name = state_header.text.strip()\n",
    "            state_table = state_header.find_next('table', {'class': 'wikitable'})\n",
    "            if state_table:\n",
    "                rows = state_table.find_all('tr')[2:]  # Skip header row\n",
    "                state_data = []\n",
    "                \n",
    "                for row in rows:\n",
    "                    cols = row.find_all(['th', 'td'])\n",
    "                    if len(cols) >= 6:\n",
    "                        district = cols[0].text.strip()\n",
    "                        pvi = cols[1].text.strip()\n",
    "                        incumbent = cols[2].text.strip()\n",
    "                        party = cols[3].text.strip()\n",
    "                        first_elected = cols[4].text.strip()\n",
    "                        status = cols[5].text.strip()\n",
    "                        \n",
    "                        candidates = []\n",
    "                        if len(cols) > 6:\n",
    "                            candidate_list = cols[6].find_all('li')\n",
    "                            for candidate in candidate_list:\n",
    "                                candidate_text = candidate.text.strip()\n",
    "                                candidates.append(candidate_text)\n",
    "                        \n",
    "                        state_data.append({\n",
    "                            'district': district,\n",
    "                            'pvi': pvi,\n",
    "                            'incumbent': incumbent,\n",
    "                            'party': party,\n",
    "                            'first_elected': first_elected,\n",
    "                            'status': status,\n",
    "                            'candidates': candidates\n",
    "                        })\n",
    "            \n",
    "            data[state_name] = state_data\n",
    "\n",
    "    ALL_DATA[year] = data"
   ]
  },
  {
   "cell_type": "code",
   "execution_count": 14,
   "metadata": {},
   "outputs": [],
   "source": [
    "import json\n",
    "\n",
    "with open('wiki_scrape_pvi.json', 'w') as f:\n",
    "    json.dump(ALL_DATA, f, indent=4)\n"
   ]
  }
 ],
 "metadata": {
  "kernelspec": {
   "display_name": "bigData",
   "language": "python",
   "name": "python3"
  },
  "language_info": {
   "codemirror_mode": {
    "name": "ipython",
    "version": 3
   },
   "file_extension": ".py",
   "mimetype": "text/x-python",
   "name": "python",
   "nbconvert_exporter": "python",
   "pygments_lexer": "ipython3",
   "version": "3.10.13"
  }
 },
 "nbformat": 4,
 "nbformat_minor": 2
}
