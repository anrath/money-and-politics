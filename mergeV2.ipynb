{
 "cells": [
  {
   "cell_type": "code",
   "execution_count": 196,
   "metadata": {},
   "outputs": [],
   "source": [
    "import pandas as pd\n",
    "import json"
   ]
  },
  {
   "cell_type": "code",
   "execution_count": 197,
   "metadata": {},
   "outputs": [],
   "source": [
    "fec_data = pd.read_csv('data/FEC_data.csv')\n",
    "FEC_subset_columns = ['year', 'CAND_ID', 'CAND_NAME', 'CAND_ICI', 'CAND_PTY_AFFILIATION', 'TTL_DISB', 'CAND_OFFICE_ST', 'CAND_OFFICE_DISTRICT']\n",
    "\n",
    "fec_data = fec_data[FEC_subset_columns]\n",
    "fec_data.rename(columns={'CAND_ID': 'FEC_candidate_id'}, inplace=True)\n"
   ]
  },
  {
   "cell_type": "code",
   "execution_count": 198,
   "metadata": {},
   "outputs": [],
   "source": [
    "house_data = pd.read_csv('data/1976-2022-house.csv')\n",
    "drop_columns = ['state_cen', 'state_ic', 'version', 'fusion_ticket', 'writein', 'unofficial', 'mode', 'stage', 'state_fips', 'office']\n",
    "\n",
    "house_data = house_data[(house_data['writein'] == False) & (house_data['unofficial'] == False) & (house_data['mode'] == 'TOTAL') & (house_data['stage'] == 'GEN')]\n",
    "\n",
    "with pd.option_context('mode.chained_assignment', None):\n",
    "    house_data.rename(columns={'candidate': 'candidate_name', 'candidatevotes': 'candidate_votes', 'totalvotes': 'total_votes'}, inplace=True)\n",
    "    house_data.drop(columns=drop_columns, inplace=True)"
   ]
  },
  {
   "cell_type": "markdown",
   "metadata": {},
   "source": [
    "# merging"
   ]
  },
  {
   "cell_type": "code",
   "execution_count": 199,
   "metadata": {},
   "outputs": [],
   "source": [
    "from fuzzywuzzy import fuzz\n",
    "\n",
    "# Function to find the best match between two name lists\n",
    "def find_best_match(name, candidate_list):\n",
    "    best_match = None\n",
    "    best_ratio = 0\n",
    "    for candidate in candidate_list:\n",
    "        ratio = fuzz.token_sort_ratio(name, candidate)\n",
    "        if ratio > best_ratio:\n",
    "            best_ratio = ratio\n",
    "            best_match = candidate\n",
    "    return best_match if best_ratio > 60 else None  # Return None if no good match found"
   ]
  },
  {
   "cell_type": "code",
   "execution_count": 200,
   "metadata": {},
   "outputs": [],
   "source": [
    "pd.options.mode.chained_assignment = None\n",
    "# Initialize an empty list to store all merged data\n",
    "all_merged_data = []\n",
    "\n",
    "for year in range(2010, 2022, 2):\n",
    "    house_data_year = house_data[house_data['year'] == year]\n",
    "    fec_data_year = fec_data[fec_data['year'] == year]\n",
    "\n",
    "    # Ensure district is of the same type in both dataframes\n",
    "    fec_data_year['CAND_OFFICE_DISTRICT'] = fec_data_year['CAND_OFFICE_DISTRICT'].astype(str)\n",
    "    house_data_year['district'] = house_data_year['district'].astype(str)\n",
    "\n",
    "    # Group finance data by state and district\n",
    "    finance_grouped = fec_data_year.groupby(['CAND_OFFICE_ST', 'CAND_OFFICE_DISTRICT'])\n",
    "\n",
    "    # Iterate through each district in house_data\n",
    "    for (state, district), house_group in house_data_year.groupby(['state_po', 'district']):\n",
    "        finance_group = finance_grouped.get_group((state, district)) if (state, district) in finance_grouped.groups else None\n",
    "        \n",
    "        if finance_group is not None:\n",
    "            house_candidates = house_group['candidate_name'].tolist()\n",
    "            finance_candidates = finance_group['CAND_NAME'].tolist()\n",
    "            \n",
    "            for _, house_row in house_group.iterrows():\n",
    "                best_match = find_best_match(house_row['candidate_name'], finance_candidates)\n",
    "                if best_match:\n",
    "                    finance_row = finance_group[finance_group['CAND_NAME'] == best_match].iloc[0]\n",
    "                    merged_row = house_row.to_dict()\n",
    "                    merged_row.update(finance_row.to_dict())\n",
    "                    all_merged_data.append(merged_row)\n",
    "                # If there's no match, append the row with only house data\n",
    "                else:\n",
    "                    merged_row = house_row.to_dict()\n",
    "                    all_merged_data.append(merged_row)\n",
    "\n",
    "# Create the final merged dataframe with all years\n",
    "merged_df = pd.DataFrame(all_merged_data)\n",
    "merged_df.drop(columns=['CAND_NAME', 'CAND_PTY_AFFILIATION', 'CAND_OFFICE_ST', 'CAND_OFFICE_DISTRICT'], inplace=True)\n",
    "\n",
    "merged_df['id'] = merged_df['year'].astype(str) + merged_df['state_po'] + merged_df['district']\n",
    "merged_df = merged_df[['id'] + [col for col in merged_df.columns if col != 'id']]\n",
    "\n",
    "# Save the merged dataset with all years to a single CSV file\n",
    "merged_df.to_csv('data/cleaned/merged_house_finance_data_all_years.csv', index=False)"
   ]
  },
  {
   "cell_type": "code",
   "execution_count": 201,
   "metadata": {},
   "outputs": [],
   "source": [
    "import json\n",
    "\n",
    "# Load the JSON data from the file\n",
    "with open('data/wiki/wiki_scrape_nhe.json', 'r') as file:\n",
    "    nhe_data = json.load(file)\n",
    "\n",
    "with open('data/wiki/wiki_scrape_pvi.json', 'r') as file:\n",
    "    pvi_data = json.load(file)"
   ]
  },
  {
   "cell_type": "code",
   "execution_count": 202,
   "metadata": {},
   "outputs": [
    {
     "name": "stdout",
     "output_type": "stream",
     "text": [
      "Year: 2022, Percent difference between Republican and Democratic votes: 2.72%\n",
      "Year: 2020, Percent difference between Republican and Democratic votes: -3.10%\n",
      "Year: 2018, Percent difference between Republican and Democratic votes: -8.60%\n",
      "Year: 2016, Percent difference between Republican and Democratic votes: 1.10%\n",
      "Year: 2014, Percent difference between Republican and Democratic votes: 5.70%\n",
      "Year: 2012, Percent difference between Republican and Democratic votes: -1.10%\n",
      "Year: 2010, Percent difference between Republican and Democratic votes: 6.80%\n",
      "Year: 2008, Percent difference between Republican and Democratic votes: -10.60%\n"
     ]
    }
   ],
   "source": [
    "for year, data in nhe_data.items():\n",
    "    republican_percentage = 0\n",
    "    democratic_percentage = 0\n",
    "    \n",
    "    for party_data in data:\n",
    "        if party_data['party'] == 'Republican Party':\n",
    "            republican_percentage = party_data['percentage']\n",
    "        elif party_data['party'] == 'Democratic Party':\n",
    "            democratic_percentage = party_data['percentage']\n",
    "    percent_difference = republican_percentage - democratic_percentage\n",
    "    \n",
    "    # Update the 'NHE' column for the corresponding year\n",
    "    merged_df.loc[merged_df['year'] == int(year), 'NHE'] = round(percent_difference, 2)\n",
    "    \n",
    "    # Print the year and the difference\n",
    "    print(f\"Year: {year}, Percent difference between Republican and Democratic votes: {percent_difference:.2f}%\")"
   ]
  },
  {
   "cell_type": "code",
   "execution_count": 203,
   "metadata": {},
   "outputs": [],
   "source": [
    "def convert_pvi(pvi):\n",
    "    if 'R+' in pvi:\n",
    "        return int(pvi.replace('R+', ''))\n",
    "    elif 'D+' in pvi:\n",
    "        return -int(pvi.replace('D+', ''))\n",
    "    elif 'even' in pvi.lower():\n",
    "        return 0\n",
    "    else:\n",
    "        print(f\"PVI value not recognized: {pvi}\")\n",
    "        return None\n"
   ]
  },
  {
   "cell_type": "code",
   "execution_count": 206,
   "metadata": {},
   "outputs": [
    {
     "data": {
      "text/plain": [
       "'New Hampshire\\xa01'"
      ]
     },
     "execution_count": 206,
     "metadata": {},
     "output_type": "execute_result"
    }
   ],
   "source": [
    "district_name"
   ]
  },
  {
   "cell_type": "code",
   "execution_count": 208,
   "metadata": {},
   "outputs": [],
   "source": [
    "for year, state_data in pvi_data.items():\n",
    "    for state, districts in state_data.items():\n",
    "        for district_info in districts:\n",
    "            district_name = district_info['district']\n",
    "            pvi = district_info['pvi']\n",
    "            \n",
    "            # Extract district number\n",
    "            if 'at-large' in district_name:\n",
    "                district_number = 0\n",
    "            elif \" \" in district_name:\n",
    "                district_number = district_name.split(' ')[-1]\n",
    "                if \"\\xa0\" in district_name:\n",
    "                    district_number = int(district_name.split('\\xa0')[-1])\n",
    "                else:\n",
    "                    district_number = int(district_name.split(' ')[-1])\n",
    "            else:\n",
    "                district_number = int(district_name.split('\\u00a0')[-1])\n",
    "            \n",
    "            # Update merged_df with PVI information\n",
    "            mask = (\n",
    "                (merged_df['year'] == int(year)) &\n",
    "                (merged_df['state'] == state.upper()) &\n",
    "                (merged_df['district'] == str(district_number))\n",
    "            )\n",
    "            converted_pvi = convert_pvi(pvi)\n",
    "            merged_df.loc[mask, 'pvi'] = converted_pvi\n"
   ]
  },
  {
   "cell_type": "code",
   "execution_count": 210,
   "metadata": {},
   "outputs": [],
   "source": [
    "merged_df = merged_df[merged_df['state'] != \"DISTRICT OF COLUMBIA\"]\n",
    "merged_df.to_csv('data/cleaned/merged_house_finance_data_all_years.csv', index=False)"
   ]
  },
  {
   "cell_type": "code",
   "execution_count": null,
   "metadata": {},
   "outputs": [],
   "source": []
  }
 ],
 "metadata": {
  "kernelspec": {
   "display_name": "bigData",
   "language": "python",
   "name": "python3"
  },
  "language_info": {
   "codemirror_mode": {
    "name": "ipython",
    "version": 3
   },
   "file_extension": ".py",
   "mimetype": "text/x-python",
   "name": "python",
   "nbconvert_exporter": "python",
   "pygments_lexer": "ipython3",
   "version": "3.10.13"
  }
 },
 "nbformat": 4,
 "nbformat_minor": 2
}
